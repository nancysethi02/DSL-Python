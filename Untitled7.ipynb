{
 "cells": [
  {
   "cell_type": "code",
   "execution_count": 8,
   "id": "5928a50a",
   "metadata": {},
   "outputs": [
    {
     "name": "stdout",
     "output_type": "stream",
     "text": [
      "['sharu', 'mannu', 'shanaya']\n"
     ]
    }
   ],
   "source": [
    "class family:\n",
    "    family_member=none\n",
    "    \n",
    "    def __init__(self,name,age):\n",
    "        self.name=sharu\n",
    "        self.age=28\n",
    "        return\n",
    "    def print_value(self):\n",
    "        print(self.family_member)\n",
    "        return\n",
    "x=family([\"sharu\",\"mannu\",\"shanaya\"])\n",
    "x.print_value()"
   ]
  },
  {
   "cell_type": "code",
   "execution_count": null,
   "id": "b16387ef",
   "metadata": {},
   "outputs": [],
   "source": []
  }
 ],
 "metadata": {
  "kernelspec": {
   "display_name": "Python 3",
   "language": "python",
   "name": "python3"
  },
  "language_info": {
   "codemirror_mode": {
    "name": "ipython",
    "version": 3
   },
   "file_extension": ".py",
   "mimetype": "text/x-python",
   "name": "python",
   "nbconvert_exporter": "python",
   "pygments_lexer": "ipython3",
   "version": "3.8.8"
  }
 },
 "nbformat": 4,
 "nbformat_minor": 5
}
