{
 "cells": [
  {
   "cell_type": "code",
   "execution_count": 5,
   "id": "f7860434",
   "metadata": {},
   "outputs": [
    {
     "name": "stdout",
     "output_type": "stream",
     "text": [
      "Enter the value of x (0-100):54\n",
      "Result : Pass\n"
     ]
    }
   ],
   "source": [
    "#PRACTICE FOR IF STATEMENT\n",
    "\n",
    "\n",
    "x=int(input(prompt=\"Enter the value of x (0-100):\"))\n",
    "if x<35:\n",
    "    result==\"Fail\"\n",
    "else:\n",
    "    result=\"Pass\"\n",
    "print(\"Result :\", result)"
   ]
  },
  {
   "cell_type": "code",
   "execution_count": 11,
   "id": "0c80c75e",
   "metadata": {},
   "outputs": [
    {
     "name": "stdout",
     "output_type": "stream",
     "text": [
      "Enter Color of veggie(orange, red, green):dfgsdfgdsfg\n",
      "Veggie : beta muje nai pata konsi sabji he\n"
     ]
    }
   ],
   "source": [
    "color=input(prompt=\"Enter Color of veggie(orange, red, green):\")\n",
    "if color==\"orange\":\n",
    "    veggie=\"carrot\"\n",
    "elif color==\"red\":\n",
    "    veggie=\"apple\"\n",
    "elif color==\"green\":\n",
    "    veggie=\"Pea\"\n",
    "else:\n",
    "    veggie=\"beta muje nai pata konsi sabji he\"\n",
    "print(\"Veggie :\", veggie)"
   ]
  },
  {
   "cell_type": "code",
   "execution_count": 16,
   "id": "8a1e8dbd",
   "metadata": {},
   "outputs": [
    {
     "name": "stdout",
     "output_type": "stream",
     "text": [
      "Result : High\n"
     ]
    }
   ],
   "source": [
    "a=10\n",
    "if a<4:\n",
    "    result=\"Low\"\n",
    "elif a<=7:\n",
    "    result=\"Medium\"\n",
    "else:\n",
    "    result=\"High\"\n",
    "\n",
    "print(\"Result :\", result)"
   ]
  },
  {
   "cell_type": "code",
   "execution_count": 6,
   "id": "29553431",
   "metadata": {},
   "outputs": [
    {
     "name": "stdout",
     "output_type": "stream",
     "text": [
      "carrots\n",
      "broccoli\n",
      "beans\n"
     ]
    }
   ],
   "source": [
    "veggies = [\"carrots\", \"broccoli\", \"beans\"]\n",
    "for veg in veggies:\n",
    "    print(veg)"
   ]
  },
  {
   "cell_type": "code",
   "execution_count": 7,
   "id": "26890a88",
   "metadata": {},
   "outputs": [
    {
     "name": "stdout",
     "output_type": "stream",
     "text": [
      "0\n",
      "1\n",
      "2\n",
      "3\n",
      "4\n"
     ]
    }
   ],
   "source": [
    "for i in range(5):\n",
    "    print(i)"
   ]
  },
  {
   "cell_type": "code",
   "execution_count": 17,
   "id": "8ca1418d",
   "metadata": {},
   "outputs": [
    {
     "name": "stdout",
     "output_type": "stream",
     "text": [
      "0 : Even\n",
      "1 : Odd\n",
      "2 : Even\n",
      "3 : Odd\n",
      "4 : Even\n",
      "5 : Odd\n",
      "6 : Even\n",
      "7 : Odd\n",
      "8 : Even\n",
      "9 : Odd\n",
      "10 : Even\n",
      "11 : Odd\n",
      "12 : Even\n",
      "13 : Odd\n",
      "14 : Even\n",
      "15 : Odd\n",
      "16 : Even\n",
      "17 : Odd\n",
      "18 : Even\n",
      "19 : Odd\n",
      "20 : Even\n",
      "21 : Odd\n",
      "22 : Even\n",
      "23 : Odd\n",
      "24 : Even\n",
      "25 : Odd\n",
      "26 : Even\n",
      "27 : Odd\n",
      "28 : Even\n",
      "29 : Odd\n",
      "30 : Even\n",
      "31 : Odd\n",
      "32 : Even\n",
      "33 : Odd\n",
      "34 : Even\n",
      "35 : Odd\n",
      "36 : Even\n",
      "37 : Odd\n",
      "38 : Even\n",
      "39 : Odd\n",
      "40 : Even\n",
      "41 : Odd\n",
      "42 : Even\n",
      "43 : Odd\n",
      "44 : Even\n",
      "45 : Odd\n",
      "46 : Even\n",
      "47 : Odd\n",
      "48 : Even\n",
      "49 : Odd\n"
     ]
    }
   ],
   "source": [
    "for i in range(50): # 0 - 49 \n",
    "    if i%2 == 0: # modulus\n",
    "        print(i,\": Even\")\n",
    "    else:\n",
    "        print(i,\": Odd\")"
   ]
  },
  {
   "cell_type": "code",
   "execution_count": 12,
   "id": "e9e34e1f",
   "metadata": {},
   "outputs": [
    {
     "name": "stdout",
     "output_type": "stream",
     "text": [
      "carrots\n",
      "broccoli\n",
      "beans\n"
     ]
    }
   ],
   "source": [
    "veggies = [\"carrots\", \"broccoli\", \"beans\"]\n",
    "for veggie in veggies:\n",
    "    if veggie == \"pea\":\n",
    "        break\n",
    "    print (veggie)"
   ]
  },
  {
   "cell_type": "code",
   "execution_count": 13,
   "id": "4c9e8b00",
   "metadata": {},
   "outputs": [
    {
     "name": "stdout",
     "output_type": "stream",
     "text": [
      "1\n",
      "2\n",
      "3\n",
      "4\n",
      "1\n",
      "1\n",
      "2\n",
      "1\n",
      "1\n",
      "2\n"
     ]
    }
   ],
   "source": [
    "for i in range(5):  # range 0~4\n",
    "    for j in range(1,5): # range 1~4\n",
    "        if i%j !=0:\n",
    "            break\n",
    "        print(j)"
   ]
  },
  {
   "cell_type": "code",
   "execution_count": 2,
   "id": "ba339af9",
   "metadata": {},
   "outputs": [
    {
     "name": "stdout",
     "output_type": "stream",
     "text": [
      "0\n",
      "0\n",
      "1\n",
      "0\n",
      "1\n",
      "2\n",
      "0\n",
      "1\n",
      "2\n",
      "3\n"
     ]
    }
   ],
   "source": [
    "for i in range(1,5):\n",
    "    for j in range(5):\n",
    "        if j//i>0:\n",
    "            break\n",
    "        print(j)\n"
   ]
  },
  {
   "cell_type": "code",
   "execution_count": null,
   "id": "a444eed0",
   "metadata": {},
   "outputs": [],
   "source": []
  }
 ],
 "metadata": {
  "kernelspec": {
   "display_name": "Python 3",
   "language": "python",
   "name": "python3"
  },
  "language_info": {
   "codemirror_mode": {
    "name": "ipython",
    "version": 3
   },
   "file_extension": ".py",
   "mimetype": "text/x-python",
   "name": "python",
   "nbconvert_exporter": "python",
   "pygments_lexer": "ipython3",
   "version": "3.8.8"
  }
 },
 "nbformat": 4,
 "nbformat_minor": 5
}
