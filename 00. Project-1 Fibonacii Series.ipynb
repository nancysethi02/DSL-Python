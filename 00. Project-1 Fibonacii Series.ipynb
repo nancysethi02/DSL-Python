{
 "cells": [
  {
   "cell_type": "code",
   "execution_count": 81,
   "id": "c63eadb3",
   "metadata": {},
   "outputs": [],
   "source": [
    "### Assigment 1\n",
    "### Create a class with name Fibonnaci and create a function inside class with name generate_fibonaci.\n",
    "### generate_fibonaci will take a number as variable and generate fibonacci series\n",
    "### create object of class and call generate_fibonaci "
   ]
  },
  {
   "cell_type": "code",
   "execution_count": 77,
   "id": "39a5a24d",
   "metadata": {},
   "outputs": [
    {
     "name": "stdout",
     "output_type": "stream",
     "text": [
      "Input number of fibonacii numbers : 5\n",
      "0\n",
      "1\n",
      "1\n",
      "2\n",
      "3\n"
     ]
    }
   ],
   "source": [
    "#Method:1 (without Functions & Class)\n",
    "i=int(input(prompt=\"Input number of fibonacii numbers : \"))\n",
    "n1=0\n",
    "n2=1\n",
    "print(n1)\n",
    "print(n2)\n",
    "j=3\n",
    "while(j<=i):\n",
    "    n3=n1+n2\n",
    "    print(n3)\n",
    "    n1=n2\n",
    "    n2=n3\n",
    "    j=j+1"
   ]
  },
  {
   "cell_type": "code",
   "execution_count": 79,
   "id": "a912b73b",
   "metadata": {},
   "outputs": [
    {
     "name": "stdout",
     "output_type": "stream",
     "text": [
      "Input number of fibonacii numbers : 5\n",
      "0\n",
      "1\n",
      "1\n",
      "2\n",
      "3\n"
     ]
    }
   ],
   "source": [
    "#Method:2 (with Functions & Class, with variables)\n",
    "#Fibonaci Series\n",
    "class fibonacii:\n",
    "    def __init__(self,number):\n",
    "        self.number=number\n",
    "        self.n1=0\n",
    "        self.n2=1\n",
    "    def printfib(self):\n",
    "        i=3\n",
    "        print(self.n1)\n",
    "        print(self.n2)\n",
    "        while(i<=self.number):\n",
    "            self.n3=self.n1+self.n2\n",
    "            self.n1=self.n2\n",
    "            self.n2=self.n3\n",
    "            print(self.n3)\n",
    "            i=i+1\n",
    "a=int(input(prompt=\"Input number of fibonacii numbers : \"))\n",
    "s1=fibonacii(a)\n",
    "s1.printfib()"
   ]
  },
  {
   "cell_type": "code",
   "execution_count": 80,
   "id": "de9f517a",
   "metadata": {},
   "outputs": [
    {
     "name": "stdout",
     "output_type": "stream",
     "text": [
      "Input number of fibonacii numbers : 5\n",
      "[0, 1, 1, 2, 3]\n"
     ]
    }
   ],
   "source": [
    "#Method:3 (with Functions & Class, with List)\n",
    "#Fibonaci Series\n",
    "#********\n",
    "class fibonacii:\n",
    "    def __init__(self,number):\n",
    "        self.number=number\n",
    "        self.n=[0,1]\n",
    "    def printfib(self):\n",
    "        i=2     \n",
    "        while(i<=self.number):\n",
    "            nextnum=(self.n[i-1])+(self.n[i-2])\n",
    "            self.n.append(nextnum)\n",
    "            i=i+1\n",
    "        print(self.n[0:i-1])\n",
    "#*********\n",
    "a=int(input(prompt=\"Input number of fibonacii numbers : \"))\n",
    "s1=fibonacii(a)\n",
    "s1.printfib()"
   ]
  },
  {
   "cell_type": "code",
   "execution_count": 68,
   "id": "97d6fba5",
   "metadata": {},
   "outputs": [],
   "source": []
  },
  {
   "cell_type": "code",
   "execution_count": null,
   "id": "29cbef87",
   "metadata": {},
   "outputs": [],
   "source": []
  }
 ],
 "metadata": {
  "kernelspec": {
   "display_name": "Python 3",
   "language": "python",
   "name": "python3"
  },
  "language_info": {
   "codemirror_mode": {
    "name": "ipython",
    "version": 3
   },
   "file_extension": ".py",
   "mimetype": "text/x-python",
   "name": "python",
   "nbconvert_exporter": "python",
   "pygments_lexer": "ipython3",
   "version": "3.8.8"
  }
 },
 "nbformat": 4,
 "nbformat_minor": 5
}
