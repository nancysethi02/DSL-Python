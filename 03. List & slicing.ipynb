{
 "cells": [
  {
   "cell_type": "code",
   "execution_count": 3,
   "id": "e55e0aeb",
   "metadata": {},
   "outputs": [],
   "source": [
    "x = [3, 4, 1, 9, 11, 32, -2, -10]"
   ]
  },
  {
   "cell_type": "code",
   "execution_count": 4,
   "id": "c054eb9f",
   "metadata": {},
   "outputs": [
    {
     "name": "stdout",
     "output_type": "stream",
     "text": [
      "x[0]:  3\n",
      "x[1]:  4\n",
      "x[-1]:  -10\n",
      "x[-2]:  -2\n"
     ]
    }
   ],
   "source": [
    "print(\"x[0]: \", x[0])\n",
    "print(\"x[1]: \", x[1])\n",
    "print(\"x[-1]: \", x[-1])\n",
    "print(\"x[-2]: \", x[-2])"
   ]
  },
  {
   "cell_type": "code",
   "execution_count": 5,
   "id": "9795b0bf",
   "metadata": {},
   "outputs": [
    {
     "name": "stdout",
     "output_type": "stream",
     "text": [
      "[3, 4, 1, 9, 11, 32, -2, -10]\n"
     ]
    }
   ],
   "source": [
    "# homework \n",
    "x = [3, 4, 1, 9, 11, 32, -2, -10]\n",
    "print(x)"
   ]
  },
  {
   "cell_type": "code",
   "execution_count": 6,
   "id": "96581e6e",
   "metadata": {
    "scrolled": true
   },
   "outputs": [
    {
     "name": "stdout",
     "output_type": "stream",
     "text": [
      "[ -10 , -2 , 32 , 11 , 9 , 1 , 4 , 3 ]\n"
     ]
    }
   ],
   "source": [
    "#Reversing without Slicing\n",
    "print(\"[\",x[7],\",\",x[6],\",\",x[5],\",\",x[4],\",\",x[3],\",\",x[2],\",\",x[1],\",\",x[0],\"]\")"
   ]
  },
  {
   "cell_type": "code",
   "execution_count": 7,
   "id": "7f156733",
   "metadata": {},
   "outputs": [
    {
     "name": "stdout",
     "output_type": "stream",
     "text": [
      "-10 , -2 , 32 , 11 , 9 , 1 , 4 , 3\n"
     ]
    }
   ],
   "source": [
    "#Reversing without Slicing\n",
    "print(x[-1],\",\",x[-2],\",\",x[-3],\",\",x[-4],\",\",x[-5],\",\",x[-6],\",\",x[-7],\",\",x[-8])"
   ]
  },
  {
   "cell_type": "markdown",
   "id": "cd5f45fb",
   "metadata": {},
   "source": [
    "Slicing Rule variable[start:stop:jump]\n"
   ]
  },
  {
   "cell_type": "code",
   "execution_count": 19,
   "id": "a98b7f4b",
   "metadata": {},
   "outputs": [],
   "source": [
    "# x[start:stop]      # list from start to stop-1\n",
    "# x[start:]          # list from start to the rest of the array\n",
    "# x[:stop]           # list from the beginning to stop-1\n",
    "# x[:]               # whole list\n",
    "# x[start:stop:jump] # list from start to stop-1 with indexes jumping by jump steps\n",
    "# x[::jump]          # whole list with indexes jumping by jump steps"
   ]
  },
  {
   "cell_type": "code",
   "execution_count": 20,
   "id": "4f513c29",
   "metadata": {},
   "outputs": [
    {
     "data": {
      "text/plain": [
       "[3, 4, 1, 9, 11, 32, -2, -10]"
      ]
     },
     "execution_count": 20,
     "metadata": {},
     "output_type": "execute_result"
    }
   ],
   "source": [
    "# x[start:stop]      # list from start to stop-1\n",
    "x[0:8]"
   ]
  },
  {
   "cell_type": "code",
   "execution_count": 21,
   "id": "01a40031",
   "metadata": {},
   "outputs": [
    {
     "data": {
      "text/plain": [
       "[1, 9, 11, 32, -2, -10]"
      ]
     },
     "execution_count": 21,
     "metadata": {},
     "output_type": "execute_result"
    }
   ],
   "source": [
    "# x[start:]          # list from start to the rest of the list\n",
    "x[2:]"
   ]
  },
  {
   "cell_type": "code",
   "execution_count": 22,
   "id": "5f9c36a5",
   "metadata": {},
   "outputs": [
    {
     "data": {
      "text/plain": [
       "[3, 4, 1, 9, 11]"
      ]
     },
     "execution_count": 22,
     "metadata": {},
     "output_type": "execute_result"
    }
   ],
   "source": [
    "# x[:stop]           # list from the beginning to stop-1\n",
    "x[:5]"
   ]
  },
  {
   "cell_type": "code",
   "execution_count": 23,
   "id": "3a96f90f",
   "metadata": {},
   "outputs": [
    {
     "name": "stdout",
     "output_type": "stream",
     "text": [
      "[3, 4, 1, 9, 11, 32, -2, -10]\n"
     ]
    }
   ],
   "source": [
    "# x[:]               # whole list\n",
    "print(x[:])"
   ]
  },
  {
   "cell_type": "code",
   "execution_count": 24,
   "id": "9b6ae392",
   "metadata": {},
   "outputs": [
    {
     "data": {
      "text/plain": [
       "[3, 4, 1, 9, 11, 32, -2, -10]"
      ]
     },
     "execution_count": 24,
     "metadata": {},
     "output_type": "execute_result"
    }
   ],
   "source": [
    "# x[start:stop:jump] # list from start to stop-1 with indexes jumping by jump steps\n",
    "x[0:8:1]"
   ]
  },
  {
   "cell_type": "code",
   "execution_count": 25,
   "id": "19629260",
   "metadata": {},
   "outputs": [
    {
     "data": {
      "text/plain": [
       "[3, 1, 11, -2]"
      ]
     },
     "execution_count": 25,
     "metadata": {},
     "output_type": "execute_result"
    }
   ],
   "source": [
    "#jumping 2 steps\n",
    "x[0:8:2]"
   ]
  },
  {
   "cell_type": "code",
   "execution_count": 26,
   "id": "8f2c74fd",
   "metadata": {
    "scrolled": true
   },
   "outputs": [
    {
     "data": {
      "text/plain": [
       "[3, 4, 1, 9, 11, 32, -2, -10]"
      ]
     },
     "execution_count": 26,
     "metadata": {},
     "output_type": "execute_result"
    }
   ],
   "source": [
    "# x[::jump]          # whole list with indexes jumping by jump steps\n",
    "x[::1]"
   ]
  },
  {
   "cell_type": "code",
   "execution_count": 27,
   "id": "bd15d0af",
   "metadata": {},
   "outputs": [
    {
     "data": {
      "text/plain": [
       "[3, 4, 1, 9, 11, 32, -2, -10]"
      ]
     },
     "execution_count": 27,
     "metadata": {},
     "output_type": "execute_result"
    }
   ],
   "source": [
    "#from -8 to 0\n",
    "x[-8:]  \n",
    "#doubt: in minus indexing how can i print whole list from -8 to 0 ? its just printint from -8 to -1, x[0]index not printing?"
   ]
  },
  {
   "cell_type": "markdown",
   "id": "8a9801a9",
   "metadata": {},
   "source": [
    "# ANSWER"
   ]
  },
  {
   "cell_type": "code",
   "execution_count": 28,
   "id": "30846881",
   "metadata": {},
   "outputs": [
    {
     "data": {
      "text/plain": [
       "[-10, -2, 32, 11, 9, 1, 4, 3]"
      ]
     },
     "execution_count": 28,
     "metadata": {},
     "output_type": "execute_result"
    }
   ],
   "source": [
    "# Reversing using Slicing\n",
    "x[-1::-1]"
   ]
  },
  {
   "cell_type": "code",
   "execution_count": null,
   "id": "20ff1dce",
   "metadata": {},
   "outputs": [],
   "source": []
  },
  {
   "cell_type": "code",
   "execution_count": null,
   "id": "e5451db0",
   "metadata": {},
   "outputs": [],
   "source": []
  },
  {
   "cell_type": "code",
   "execution_count": null,
   "id": "14b42da9",
   "metadata": {},
   "outputs": [],
   "source": []
  }
 ],
 "metadata": {
  "kernelspec": {
   "display_name": "Python 3",
   "language": "python",
   "name": "python3"
  },
  "language_info": {
   "codemirror_mode": {
    "name": "ipython",
    "version": 3
   },
   "file_extension": ".py",
   "mimetype": "text/x-python",
   "name": "python",
   "nbconvert_exporter": "python",
   "pygments_lexer": "ipython3",
   "version": "3.8.8"
  }
 },
 "nbformat": 4,
 "nbformat_minor": 5
}
