{
 "cells": [
  {
   "cell_type": "code",
   "execution_count": 2,
   "id": "6cf4f61f",
   "metadata": {},
   "outputs": [
    {
     "name": "stdout",
     "output_type": "stream",
     "text": [
      "<class 'int'>\n"
     ]
    }
   ],
   "source": [
    "a=67\n",
    "print(type(a))"
   ]
  },
  {
   "cell_type": "code",
   "execution_count": 3,
   "id": "44c87768",
   "metadata": {},
   "outputs": [
    {
     "name": "stdout",
     "output_type": "stream",
     "text": [
      "<class 'str'>\n"
     ]
    }
   ],
   "source": [
    "name=\"nancy\"\n",
    "print(type(name))"
   ]
  },
  {
   "cell_type": "code",
   "execution_count": 4,
   "id": "be3be5d1",
   "metadata": {},
   "outputs": [],
   "source": [
    "a=(10<9)"
   ]
  },
  {
   "cell_type": "code",
   "execution_count": 5,
   "id": "c8d0a6b2",
   "metadata": {},
   "outputs": [
    {
     "name": "stdout",
     "output_type": "stream",
     "text": [
      "False\n"
     ]
    }
   ],
   "source": [
    "print(a)"
   ]
  },
  {
   "cell_type": "code",
   "execution_count": 6,
   "id": "e6d27ef4",
   "metadata": {},
   "outputs": [
    {
     "data": {
      "text/plain": [
       "bool"
      ]
     },
     "execution_count": 6,
     "metadata": {},
     "output_type": "execute_result"
    }
   ],
   "source": [
    "type(a)"
   ]
  },
  {
   "cell_type": "code",
   "execution_count": 7,
   "id": "8b00ec45",
   "metadata": {},
   "outputs": [],
   "source": [
    "a=1\n",
    "b=3"
   ]
  },
  {
   "cell_type": "code",
   "execution_count": null,
   "id": "9efb8c74",
   "metadata": {},
   "outputs": [],
   "source": [
    "x=int(input(prompt=\"Insert Age :\"))"
   ]
  },
  {
   "cell_type": "code",
   "execution_count": null,
   "id": "3a9acafc",
   "metadata": {},
   "outputs": [],
   "source": [
    "type(x)"
   ]
  },
  {
   "cell_type": "code",
   "execution_count": null,
   "id": "46fdf781",
   "metadata": {
    "scrolled": true
   },
   "outputs": [],
   "source": [
    "a=int(input(prompt=\"a=\"))\n",
    "b=int(input(prompt=\"b=\"))\n",
    "print(\"a+b=\",a+b)\n",
    "print(\"a-b=\",a-b) \n",
    "print(\"axb=\",a*b)\n",
    "print(\"a/b=\",a/b)\n",
    "print(\"a//b=\",a//b)\n",
    "print(\"a % b=\",a%b)\n",
    "print(\"a^b=\",a**b)\n",
    "print(\"a^b=\",pow(a,b))"
   ]
  },
  {
   "cell_type": "code",
   "execution_count": null,
   "id": "ec08a7bc",
   "metadata": {},
   "outputs": [],
   "source": [
    "#homework"
   ]
  },
  {
   "cell_type": "code",
   "execution_count": 1,
   "id": "439c18a3",
   "metadata": {
    "scrolled": true
   },
   "outputs": [
    {
     "name": "stdout",
     "output_type": "stream",
     "text": [
      "customers name :nancy\n",
      "customers age :30\n",
      "gender of customer :f\n",
      "deposit amt in Rs.:3000\n"
     ]
    }
   ],
   "source": [
    "name=input(prompt=\"customers name :\")\n",
    "age=float(input(prompt=\"customers age :\"))\n",
    "gender=input(prompt=\"gender of customer :\")\n",
    "int_bal=100\n",
    "deposits=float(input(prompt=\"deposit amt in Rs.:\"))\n",
    "acc_bal=int_bal+deposits\n"
   ]
  },
  {
   "cell_type": "code",
   "execution_count": 2,
   "id": "910e8dcd",
   "metadata": {},
   "outputs": [
    {
     "name": "stdout",
     "output_type": "stream",
     "text": [
      "Name : nancy\n",
      "Age : 30.0\n",
      "Gender : f\n",
      "Account Balance : 3100.0\n"
     ]
    }
   ],
   "source": [
    "print(\"Name :\",name)\n",
    "print(\"Age :\",age)\n",
    "print(\"Gender :\",gender)\n",
    "print(\"Account Balance :\",acc_bal)"
   ]
  },
  {
   "cell_type": "code",
   "execution_count": 3,
   "id": "2994e960",
   "metadata": {},
   "outputs": [
    {
     "name": "stdout",
     "output_type": "stream",
     "text": [
      "final amount after 3 yrs : 3692.1496\n"
     ]
    }
   ],
   "source": [
    "#SOLUTION 1\n",
    "#A=p(1+r/100)^t\n",
    "final_amt=acc_bal*((1+6/100)**3)\n",
    "print(\"final amount after 3 yrs :\",final_amt)"
   ]
  },
  {
   "cell_type": "code",
   "execution_count": 6,
   "id": "7e5757a5",
   "metadata": {},
   "outputs": [
    {
     "name": "stdout",
     "output_type": "stream",
     "text": [
      "deposit money3692.1496\n",
      "new total_bal of int_bal: 73.84299200000001\n",
      "new total balance is 73.84299200000001 times of intial balance\n"
     ]
    }
   ],
   "source": [
    "#SOLUTION 2\n",
    "# ask customer to input the same amount \n",
    "new_deposit_money = float(input(prompt=\"deposit money\"))\n",
    "\n",
    "total_bal=final_amt+new_deposit_money\n",
    "print(\"new total_bal of int_bal:\",total_bal/int_bal)\n",
    "print(\"new total balance is\",(total_bal/int_bal),\"times of intial balance\")\n"
   ]
  },
  {
   "cell_type": "code",
   "execution_count": null,
   "id": "b5c37524",
   "metadata": {},
   "outputs": [],
   "source": []
  }
 ],
 "metadata": {
  "kernelspec": {
   "display_name": "Python 3",
   "language": "python",
   "name": "python3"
  },
  "language_info": {
   "codemirror_mode": {
    "name": "ipython",
    "version": 3
   },
   "file_extension": ".py",
   "mimetype": "text/x-python",
   "name": "python",
   "nbconvert_exporter": "python",
   "pygments_lexer": "ipython3",
   "version": "3.8.8"
  }
 },
 "nbformat": 4,
 "nbformat_minor": 5
}
