{
 "cells": [
  {
   "cell_type": "code",
   "execution_count": 36,
   "id": "a34f3c22",
   "metadata": {},
   "outputs": [
    {
     "name": "stdout",
     "output_type": "stream",
     "text": [
      "Enter the Number :1001\n",
      "The number is a palindrome!\n"
     ]
    }
   ],
   "source": [
    "## Assigment 2\n",
    "## create a class with name Palindrome and inside that class create two method\n",
    "## one will check palindrome_number or not another one will accept input from user.\n",
    "class Palindrome:\n",
    "    def __init__(self):\n",
    "        self.number=0\n",
    "    def get_number_input(self):\n",
    "        self.number=int(input(prompt=\"Enter the Number :\"))\n",
    "    def is_palindrome(self):\n",
    "        self.temp=self.number\n",
    "        self.rev=0\n",
    "        while(self.number>0):\n",
    "            self.last_digit=self.number%10\n",
    "            self.rev=self.rev*10+self.last_digit\n",
    "            self.number=self.number//10\n",
    "        if(self.temp==self.rev):\n",
    "            print(\"The number is a palindrome!\")\n",
    "        else:\n",
    "            print(\"The number isn't a palindrome!\")\n",
    "num=Palindrome()\n",
    "num.get_number_input()\n",
    "num.is_palindrome()"
   ]
  },
  {
   "cell_type": "code",
   "execution_count": null,
   "id": "2fd3dae6",
   "metadata": {},
   "outputs": [],
   "source": []
  }
 ],
 "metadata": {
  "kernelspec": {
   "display_name": "Python 3",
   "language": "python",
   "name": "python3"
  },
  "language_info": {
   "codemirror_mode": {
    "name": "ipython",
    "version": 3
   },
   "file_extension": ".py",
   "mimetype": "text/x-python",
   "name": "python",
   "nbconvert_exporter": "python",
   "pygments_lexer": "ipython3",
   "version": "3.8.8"
  }
 },
 "nbformat": 4,
 "nbformat_minor": 5
}
