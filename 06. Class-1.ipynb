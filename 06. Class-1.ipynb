{
 "cells": [
  {
   "cell_type": "code",
   "execution_count": 16,
   "id": "8d3bab6e",
   "metadata": {},
   "outputs": [
    {
     "name": "stdout",
     "output_type": "stream",
     "text": [
      "Sharu Bajaj\n",
      "Shanaya Bajaj\n",
      "7\n"
     ]
    }
   ],
   "source": [
    "class Person:\n",
    "  def __init__(self, fname, lname):\n",
    "    self.firstname = fname\n",
    "    self.lastname = lname\n",
    "\n",
    "  def xyz(self):\n",
    "    print(self.firstname, self.lastname)\n",
    "    \n",
    "class student(Person):\n",
    "    def __init__(self,fname, lname, age):\n",
    "        self.firstname = fname\n",
    "        self.lastname = lname\n",
    "        self.studentage=age\n",
    "    \n",
    "    def ageprint(self):\n",
    "        print(self.studentage)\n",
    "    \n",
    "    \n",
    "   \n",
    "\n",
    "#Use the Person class to create an object, and then execute the printname method:\n",
    "\n",
    "p1 = Person(\"Sharu\", \"Bajaj\")\n",
    "\n",
    "p2=student(\"Shanaya\", \"Bajaj\",7)\n",
    "\n",
    "#p2=Person(\"Nancy\", \"Sethi\")\n",
    "#p3=Person(\"Umesh\", \"kumar\")\n",
    "#p4=Person(\"Shanaya\", \"Bajaj\")\n",
    "#p2=Person(\"Manu\", \"Bajaj\")\n",
    "#\n",
    "\n",
    "\n",
    "p1.xyz()\n",
    "p2.xyz()\n",
    "p2.ageprint()\n"
   ]
  },
  {
   "cell_type": "code",
   "execution_count": 20,
   "id": "004ecd2b",
   "metadata": {},
   "outputs": [
    {
     "name": "stdout",
     "output_type": "stream",
     "text": [
      "Parent\n",
      "Child\n",
      "ParentMethod:Parent\n",
      "Parent\n"
     ]
    }
   ],
   "source": [
    "class Parent:\n",
    "    parent_val = \"Parent\"\n",
    "    def parent_function(self):\n",
    "        print(\"ParentMethod:\" + self.parent_val)\n",
    "\n",
    "        \n",
    "# create a class with name child and make it as child of Parent class -> child(Parent)\n",
    "# This is also called as inheritance\n",
    "class Child(Parent):\n",
    "    child_val = \"Child\"\n",
    "    def child_function(self):\n",
    "        print(\"ChildMethod:\" + self.child_val)\n",
    "        super().parent_function()  # using super keywor you can call parent method/variables from child class.\n",
    "        \n",
    "\n",
    "# create object of child class\n",
    "child = Child()\n",
    "papa=Parent()\n",
    "\n",
    "# Since child is inherited from parent, child can call parent class variables and methods\n",
    "print(child.parent_val) # ⇒ Parent\n",
    "\n",
    "# call child class variable\n",
    "print(child.child_val) # ⇒ Child\n",
    "\n",
    "# class parent class function\n",
    "child.parent_function() # ⇒ ParentMethod:Parent\n",
    "\n",
    "# call child class function\n",
    "\n",
    "print(papa.parent_val)\n",
    "\n",
    "#print(papa.child_val)\n",
    "\n"
   ]
  },
  {
   "cell_type": "code",
   "execution_count": 2,
   "id": "3d230668",
   "metadata": {},
   "outputs": [
    {
     "name": "stdout",
     "output_type": "stream",
     "text": [
      "Name: tuffy\n",
      "Species: Dog\n",
      "tuffy is a Dog\n",
      "Name: Mewoo\n",
      "Species: Cat\n",
      "Mewoo is a Cat\n",
      "Name: TOM\n",
      "Species: Cat\n",
      "TOM is a Cat\n"
     ]
    }
   ],
   "source": [
    "class Pet(object):\n",
    "    \n",
    "    def __init__(self, name, species):\n",
    "        self.name = name\n",
    "        self.species = species\n",
    "\n",
    "    def getName(self):\n",
    "        return self.name\n",
    "\n",
    "    def getSpecies(self):\n",
    "        return self.species\n",
    "\n",
    "    def __str__(self):\n",
    "        return \"%s is a %s\" % (self.name, self.species)\n",
    "\n",
    "class Dog(Pet):\n",
    "    \n",
    "    def __init__(self, name, chases_cats):\n",
    "        Pet.__init__(self, name, \"Dog\")\n",
    "        self.chases_cats = chases_cats\n",
    "\n",
    "    def chasesCats(self):\n",
    "        return self.chases_cats\n",
    "\n",
    "class Cat(Pet):\n",
    "    def __init__(self, name, hates_dogs):\n",
    "        Pet.__init__(self, name, \"Cat\")\n",
    "        self.hates_dogs = hates_dogs\n",
    "\n",
    "    def hatesDogs(self):\n",
    "        return self.hates_dogs\n",
    "    \n",
    "    \n",
    "pet1=Dog(\"tuffy\",\"Yes\")\n",
    "print(\"Name:\",pet1.getName())\n",
    "print(\"Species:\",pet1.getSpecies())\n",
    "print(pet1.__str__())\n",
    "\n",
    "pet2=Cat(\"Mewoo\",\"Yes\")\n",
    "print(\"Name:\",pet2.getName())\n",
    "print(\"Species:\",pet2.getSpecies())\n",
    "print(pet2.__str__())\n",
    "\n",
    "pet3=Cat(\"TOM\", \"Yes\")\n",
    "print(\"Name:\",pet3.getName())\n",
    "print(\"Species:\",pet3.getSpecies())\n",
    "print(pet3.__str__())\n"
   ]
  },
  {
   "cell_type": "code",
   "execution_count": null,
   "id": "a8cfc068",
   "metadata": {},
   "outputs": [],
   "source": []
  }
 ],
 "metadata": {
  "kernelspec": {
   "display_name": "Python 3",
   "language": "python",
   "name": "python3"
  },
  "language_info": {
   "codemirror_mode": {
    "name": "ipython",
    "version": 3
   },
   "file_extension": ".py",
   "mimetype": "text/x-python",
   "name": "python",
   "nbconvert_exporter": "python",
   "pygments_lexer": "ipython3",
   "version": "3.8.8"
  }
 },
 "nbformat": 4,
 "nbformat_minor": 5
}
