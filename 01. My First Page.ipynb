{
 "cells": [
  {
   "cell_type": "code",
   "execution_count": 17,
   "id": "1cf972d9",
   "metadata": {},
   "outputs": [],
   "source": [
    "#this is my first jupyter page"
   ]
  },
  {
   "cell_type": "code",
   "execution_count": 18,
   "id": "93d99aa9",
   "metadata": {},
   "outputs": [
    {
     "name": "stdout",
     "output_type": "stream",
     "text": [
      "nancy sethi\n"
     ]
    }
   ],
   "source": [
    "print(\"nancy sethi\")"
   ]
  },
  {
   "cell_type": "code",
   "execution_count": 19,
   "id": "ae3b054b",
   "metadata": {},
   "outputs": [
    {
     "name": "stdout",
     "output_type": "stream",
     "text": [
      "this is example of code cell\n"
     ]
    }
   ],
   "source": [
    "print(\"this is example of code cell\")"
   ]
  },
  {
   "cell_type": "code",
   "execution_count": 1,
   "id": "aa52da3b",
   "metadata": {},
   "outputs": [],
   "source": [
    "#this is example of text cell"
   ]
  },
  {
   "cell_type": "markdown",
   "id": "42f011fc",
   "metadata": {},
   "source": []
  },
  {
   "cell_type": "markdown",
   "id": "b61609e1",
   "metadata": {},
   "source": []
  }
 ],
 "metadata": {
  "kernelspec": {
   "display_name": "Python 3",
   "language": "python",
   "name": "python3"
  },
  "language_info": {
   "codemirror_mode": {
    "name": "ipython",
    "version": 3
   },
   "file_extension": ".py",
   "mimetype": "text/x-python",
   "name": "python",
   "nbconvert_exporter": "python",
   "pygments_lexer": "ipython3",
   "version": "3.8.8"
  }
 },
 "nbformat": 4,
 "nbformat_minor": 5
}
