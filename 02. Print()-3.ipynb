{
 "cells": [
  {
   "cell_type": "markdown",
   "id": "d255498a",
   "metadata": {},
   "source": [
    "Date: 28.06.2021 print() & Type() practice"
   ]
  },
  {
   "cell_type": "code",
   "execution_count": 2,
   "id": "a20a8d09",
   "metadata": {},
   "outputs": [
    {
     "name": "stdout",
     "output_type": "stream",
     "text": [
      "This is example of print code\n"
     ]
    }
   ],
   "source": [
    "print(\"This is example of print code\")"
   ]
  },
  {
   "cell_type": "code",
   "execution_count": 3,
   "id": "266756e5",
   "metadata": {},
   "outputs": [
    {
     "name": "stdout",
     "output_type": "stream",
     "text": [
      "12\n"
     ]
    }
   ],
   "source": [
    "print(12)"
   ]
  },
  {
   "cell_type": "code",
   "execution_count": 4,
   "id": "7ee5fce5",
   "metadata": {},
   "outputs": [
    {
     "name": "stdout",
     "output_type": "stream",
     "text": [
      "12\n"
     ]
    }
   ],
   "source": [
    "print(\"12\")"
   ]
  },
  {
   "cell_type": "code",
   "execution_count": 15,
   "id": "714d0607",
   "metadata": {},
   "outputs": [],
   "source": [
    "name=\"nancy sethi\"\n",
    "age=29.3\n",
    "apt=1006\n",
    "add=\"nishincho\"\n",
    "city=\"kawasaki\""
   ]
  },
  {
   "cell_type": "code",
   "execution_count": 16,
   "id": "f3f94059",
   "metadata": {},
   "outputs": [
    {
     "name": "stdout",
     "output_type": "stream",
     "text": [
      "nancy sethi\n"
     ]
    }
   ],
   "source": [
    "print(name)"
   ]
  },
  {
   "cell_type": "code",
   "execution_count": 17,
   "id": "611881a3",
   "metadata": {},
   "outputs": [
    {
     "data": {
      "text/plain": [
       "str"
      ]
     },
     "execution_count": 17,
     "metadata": {},
     "output_type": "execute_result"
    }
   ],
   "source": [
    "type(name)"
   ]
  },
  {
   "cell_type": "code",
   "execution_count": 18,
   "id": "dc13bcc5",
   "metadata": {},
   "outputs": [
    {
     "name": "stdout",
     "output_type": "stream",
     "text": [
      "29.3 <class 'float'>\n"
     ]
    }
   ],
   "source": [
    "print(age,type(age))"
   ]
  },
  {
   "cell_type": "code",
   "execution_count": 19,
   "id": "e671c05d",
   "metadata": {},
   "outputs": [
    {
     "name": "stdout",
     "output_type": "stream",
     "text": [
      "1006 <class 'int'>\n"
     ]
    }
   ],
   "source": [
    "print(apt,type(apt))"
   ]
  },
  {
   "cell_type": "code",
   "execution_count": 20,
   "id": "02d44278",
   "metadata": {},
   "outputs": [
    {
     "name": "stdout",
     "output_type": "stream",
     "text": [
      "nishincho <class 'str'>\n"
     ]
    }
   ],
   "source": [
    "print(add,type(add))"
   ]
  },
  {
   "cell_type": "code",
   "execution_count": 21,
   "id": "c453c2ec",
   "metadata": {},
   "outputs": [
    {
     "name": "stdout",
     "output_type": "stream",
     "text": [
      "kawasaki <class 'str'>\n"
     ]
    }
   ],
   "source": [
    "print(city,type(city))"
   ]
  },
  {
   "cell_type": "code",
   "execution_count": 22,
   "id": "809df14b",
   "metadata": {},
   "outputs": [
    {
     "name": "stdout",
     "output_type": "stream",
     "text": [
      "nancy sethi 29.3 1006 nishincho kawasaki\n"
     ]
    }
   ],
   "source": [
    "print(name,age,apt,add,city)"
   ]
  },
  {
   "cell_type": "code",
   "execution_count": 23,
   "id": "f98677e4",
   "metadata": {},
   "outputs": [
    {
     "name": "stdout",
     "output_type": "stream",
     "text": [
      "nancy sethi ,\n"
     ]
    }
   ],
   "source": [
    "print(name,\",\")"
   ]
  },
  {
   "cell_type": "code",
   "execution_count": 25,
   "id": "f913d1d1",
   "metadata": {},
   "outputs": [
    {
     "name": "stdout",
     "output_type": "stream",
     "text": [
      "nancy sethi , 29.3 , nishincho , 1006 , kawasaki\n"
     ]
    }
   ],
   "source": [
    "print(name,\",\",age,\",\",add,\",\",apt,\",\",city)"
   ]
  },
  {
   "cell_type": "code",
   "execution_count": 26,
   "id": "1f28eab1",
   "metadata": {},
   "outputs": [
    {
     "name": "stdout",
     "output_type": "stream",
     "text": [
      "1035\n"
     ]
    }
   ],
   "source": [
    "print(23*45)"
   ]
  },
  {
   "cell_type": "code",
   "execution_count": 27,
   "id": "ec3a1eca",
   "metadata": {},
   "outputs": [],
   "source": [
    "a=56\n",
    "b=14\n",
    "c=13.8"
   ]
  },
  {
   "cell_type": "code",
   "execution_count": 28,
   "id": "b843e41f",
   "metadata": {},
   "outputs": [
    {
     "name": "stdout",
     "output_type": "stream",
     "text": [
      "83.8\n"
     ]
    }
   ],
   "source": [
    "print(a+b+c)"
   ]
  },
  {
   "cell_type": "code",
   "execution_count": 29,
   "id": "40473d96",
   "metadata": {},
   "outputs": [
    {
     "name": "stdout",
     "output_type": "stream",
     "text": [
      "784\n"
     ]
    }
   ],
   "source": [
    "print(a*b)"
   ]
  },
  {
   "cell_type": "code",
   "execution_count": 30,
   "id": "0eab4857",
   "metadata": {},
   "outputs": [
    {
     "name": "stdout",
     "output_type": "stream",
     "text": [
      "772.8000000000001\n"
     ]
    }
   ],
   "source": [
    "print(a*c)"
   ]
  },
  {
   "cell_type": "code",
   "execution_count": 31,
   "id": "473f04f7",
   "metadata": {},
   "outputs": [],
   "source": [
    "x=21\n",
    "y=21.1\n",
    "z=x+y"
   ]
  },
  {
   "cell_type": "code",
   "execution_count": 32,
   "id": "4923f7c4",
   "metadata": {},
   "outputs": [
    {
     "name": "stdout",
     "output_type": "stream",
     "text": [
      "42.1 <class 'float'>\n"
     ]
    }
   ],
   "source": [
    "print(z,type(z))"
   ]
  },
  {
   "cell_type": "code",
   "execution_count": 34,
   "id": "9c27df96",
   "metadata": {},
   "outputs": [],
   "source": [
    "num1=110.5\n",
    "num2=29.5\n",
    "num3=num1+num2"
   ]
  },
  {
   "cell_type": "code",
   "execution_count": 35,
   "id": "d5598840",
   "metadata": {},
   "outputs": [
    {
     "name": "stdout",
     "output_type": "stream",
     "text": [
      "140.0\n"
     ]
    }
   ],
   "source": [
    "print(num3)"
   ]
  },
  {
   "cell_type": "code",
   "execution_count": 36,
   "id": "e6182c44",
   "metadata": {},
   "outputs": [
    {
     "data": {
      "text/plain": [
       "float"
      ]
     },
     "execution_count": 36,
     "metadata": {},
     "output_type": "execute_result"
    }
   ],
   "source": [
    "type(num3)"
   ]
  },
  {
   "cell_type": "code",
   "execution_count": null,
   "id": "85c3fadb",
   "metadata": {},
   "outputs": [],
   "source": []
  }
 ],
 "metadata": {
  "kernelspec": {
   "display_name": "Python 3",
   "language": "python",
   "name": "python3"
  },
  "language_info": {
   "codemirror_mode": {
    "name": "ipython",
    "version": 3
   },
   "file_extension": ".py",
   "mimetype": "text/x-python",
   "name": "python",
   "nbconvert_exporter": "python",
   "pygments_lexer": "ipython3",
   "version": "3.8.8"
  }
 },
 "nbformat": 4,
 "nbformat_minor": 5
}
