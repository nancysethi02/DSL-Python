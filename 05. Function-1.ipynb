{
 "cells": [
  {
   "cell_type": "code",
   "execution_count": 1,
   "id": "f07c7c63",
   "metadata": {},
   "outputs": [],
   "source": [
    "#Reverse Name\n",
    "#Example:\n",
    "#Name = Nancy Sethi\n",
    "#Reverse Name = ihteS ycnaN"
   ]
  },
  {
   "cell_type": "code",
   "execution_count": 5,
   "id": "d0e80f42",
   "metadata": {},
   "outputs": [
    {
     "name": "stdout",
     "output_type": "stream",
     "text": [
      "N a\n"
     ]
    }
   ],
   "source": [
    "name=\"Nancy\"\n",
    "print(name[0],name[1])"
   ]
  },
  {
   "cell_type": "code",
   "execution_count": 51,
   "id": "5fd9d362",
   "metadata": {},
   "outputs": [],
   "source": [
    "#HOMEWORK\n",
    "#function assingment"
   ]
  },
  {
   "cell_type": "code",
   "execution_count": 26,
   "id": "d8d4d5cf",
   "metadata": {},
   "outputs": [
    {
     "name": "stdout",
     "output_type": "stream",
     "text": [
      "Enter Name:Nancy Sethi\n",
      "Name= Nancy Sethi\n",
      "Output= ihteS ycnaN\n"
     ]
    }
   ],
   "source": [
    "#problem 1 \n",
    "\n",
    "def rev_name(name):\n",
    "    print(\"Name=\",name)\n",
    "    print(\"Output=\",name[-1::-1])\n",
    "\n",
    "real_name=input (prompt=\"Enter Name:\")\n",
    "rev_name(real_name)"
   ]
  },
  {
   "cell_type": "code",
   "execution_count": 54,
   "id": "0c416937",
   "metadata": {},
   "outputs": [
    {
     "name": "stdout",
     "output_type": "stream",
     "text": [
      "Enter the Number :7\n",
      "Factorial = 5040\n"
     ]
    }
   ],
   "source": [
    "#problem 2 (while Loop)\n",
    "\n",
    "def factorial(n):\n",
    "    fact=1\n",
    "    while(n>0):\n",
    "        fact=fact*n\n",
    "        n=n-1\n",
    "    print(\"Factorial =\",fact)\n",
    "    \n",
    "n=int(input(prompt=\"Enter the Number :\"))\n",
    "factorial(n)"
   ]
  },
  {
   "cell_type": "code",
   "execution_count": 49,
   "id": "f7d98ae9",
   "metadata": {},
   "outputs": [
    {
     "name": "stdout",
     "output_type": "stream",
     "text": [
      "Enter the Number :5\n",
      "Factorial = 120\n"
     ]
    }
   ],
   "source": [
    "#Homework 2 (For Loop)\n",
    "\n",
    "def factorial(n):\n",
    "    fact=1\n",
    "    for i in range(n+1):\n",
    "        if(n>0):\n",
    "            fact=fact*n\n",
    "            n=n-1\n",
    "    print(\"Factorial =\",fact)\n",
    "    \n",
    "n=int(input(prompt=\"Enter the Number :\"))\n",
    "factorial(n)"
   ]
  },
  {
   "cell_type": "code",
   "execution_count": null,
   "id": "2a9a6470",
   "metadata": {},
   "outputs": [],
   "source": []
  }
 ],
 "metadata": {
  "kernelspec": {
   "display_name": "Python 3",
   "language": "python",
   "name": "python3"
  },
  "language_info": {
   "codemirror_mode": {
    "name": "ipython",
    "version": 3
   },
   "file_extension": ".py",
   "mimetype": "text/x-python",
   "name": "python",
   "nbconvert_exporter": "python",
   "pygments_lexer": "ipython3",
   "version": "3.8.8"
  }
 },
 "nbformat": 4,
 "nbformat_minor": 5
}
