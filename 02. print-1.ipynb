{
 "cells": [
  {
   "cell_type": "markdown",
   "id": "1be86f93",
   "metadata": {},
   "source": [
    "Date: 28.06.2021 print() & Type() practice"
   ]
  },
  {
   "cell_type": "code",
   "execution_count": 2,
   "id": "57022a88",
   "metadata": {},
   "outputs": [
    {
     "name": "stdout",
     "output_type": "stream",
     "text": [
      "This is example of print code\n"
     ]
    }
   ],
   "source": [
    "print(\"This is example of print code\")"
   ]
  },
  {
   "cell_type": "code",
   "execution_count": 3,
   "id": "cb226485",
   "metadata": {},
   "outputs": [
    {
     "name": "stdout",
     "output_type": "stream",
     "text": [
      "12\n"
     ]
    }
   ],
   "source": [
    "print(12)"
   ]
  },
  {
   "cell_type": "code",
   "execution_count": 4,
   "id": "1debf355",
   "metadata": {},
   "outputs": [
    {
     "name": "stdout",
     "output_type": "stream",
     "text": [
      "12\n"
     ]
    }
   ],
   "source": [
    "print(\"12\")"
   ]
  },
  {
   "cell_type": "code",
   "execution_count": 15,
   "id": "a1cb898f",
   "metadata": {},
   "outputs": [],
   "source": [
    "name=\"nancy sethi\"\n",
    "age=29.3\n",
    "apt=1006\n",
    "add=\"nishincho\"\n",
    "city=\"kawasaki\""
   ]
  },
  {
   "cell_type": "code",
   "execution_count": 16,
   "id": "14af1650",
   "metadata": {},
   "outputs": [
    {
     "name": "stdout",
     "output_type": "stream",
     "text": [
      "nancy sethi\n"
     ]
    }
   ],
   "source": [
    "print(name)"
   ]
  },
  {
   "cell_type": "code",
   "execution_count": 17,
   "id": "9eeaf0ef",
   "metadata": {},
   "outputs": [
    {
     "data": {
      "text/plain": [
       "str"
      ]
     },
     "execution_count": 17,
     "metadata": {},
     "output_type": "execute_result"
    }
   ],
   "source": [
    "type(name)"
   ]
  },
  {
   "cell_type": "code",
   "execution_count": 18,
   "id": "6b7ec956",
   "metadata": {},
   "outputs": [
    {
     "name": "stdout",
     "output_type": "stream",
     "text": [
      "29.3 <class 'float'>\n"
     ]
    }
   ],
   "source": [
    "print(age,type(age))"
   ]
  },
  {
   "cell_type": "code",
   "execution_count": 19,
   "id": "22c39d11",
   "metadata": {},
   "outputs": [
    {
     "name": "stdout",
     "output_type": "stream",
     "text": [
      "1006 <class 'int'>\n"
     ]
    }
   ],
   "source": [
    "print(apt,type(apt))"
   ]
  },
  {
   "cell_type": "code",
   "execution_count": 20,
   "id": "fa0f9be0",
   "metadata": {},
   "outputs": [
    {
     "name": "stdout",
     "output_type": "stream",
     "text": [
      "nishincho <class 'str'>\n"
     ]
    }
   ],
   "source": [
    "print(add,type(add))"
   ]
  },
  {
   "cell_type": "code",
   "execution_count": 21,
   "id": "34dab6c2",
   "metadata": {},
   "outputs": [
    {
     "name": "stdout",
     "output_type": "stream",
     "text": [
      "kawasaki <class 'str'>\n"
     ]
    }
   ],
   "source": [
    "print(city,type(city))"
   ]
  },
  {
   "cell_type": "code",
   "execution_count": 22,
   "id": "5677c0e4",
   "metadata": {},
   "outputs": [
    {
     "name": "stdout",
     "output_type": "stream",
     "text": [
      "nancy sethi 29.3 1006 nishincho kawasaki\n"
     ]
    }
   ],
   "source": [
    "print(name,age,apt,add,city)"
   ]
  },
  {
   "cell_type": "code",
   "execution_count": 23,
   "id": "6f763322",
   "metadata": {},
   "outputs": [
    {
     "name": "stdout",
     "output_type": "stream",
     "text": [
      "nancy sethi ,\n"
     ]
    }
   ],
   "source": [
    "print(name,\",\")"
   ]
  },
  {
   "cell_type": "code",
   "execution_count": 25,
   "id": "0ae367b6",
   "metadata": {},
   "outputs": [
    {
     "name": "stdout",
     "output_type": "stream",
     "text": [
      "nancy sethi , 29.3 , nishincho , 1006 , kawasaki\n"
     ]
    }
   ],
   "source": [
    "print(name,\",\",age,\",\",add,\",\",apt,\",\",city)"
   ]
  },
  {
   "cell_type": "code",
   "execution_count": 26,
   "id": "2db896a9",
   "metadata": {},
   "outputs": [
    {
     "name": "stdout",
     "output_type": "stream",
     "text": [
      "1035\n"
     ]
    }
   ],
   "source": [
    "print(23*45)"
   ]
  },
  {
   "cell_type": "code",
   "execution_count": 27,
   "id": "2262283e",
   "metadata": {},
   "outputs": [],
   "source": [
    "a=56\n",
    "b=14\n",
    "c=13.8"
   ]
  },
  {
   "cell_type": "code",
   "execution_count": 28,
   "id": "4471cb9f",
   "metadata": {},
   "outputs": [
    {
     "name": "stdout",
     "output_type": "stream",
     "text": [
      "83.8\n"
     ]
    }
   ],
   "source": [
    "print(a+b+c)"
   ]
  },
  {
   "cell_type": "code",
   "execution_count": 29,
   "id": "dade35f5",
   "metadata": {},
   "outputs": [
    {
     "name": "stdout",
     "output_type": "stream",
     "text": [
      "784\n"
     ]
    }
   ],
   "source": [
    "print(a*b)"
   ]
  },
  {
   "cell_type": "code",
   "execution_count": 30,
   "id": "7dd17714",
   "metadata": {},
   "outputs": [
    {
     "name": "stdout",
     "output_type": "stream",
     "text": [
      "772.8000000000001\n"
     ]
    }
   ],
   "source": [
    "print(a*c)"
   ]
  },
  {
   "cell_type": "code",
   "execution_count": 31,
   "id": "30456125",
   "metadata": {},
   "outputs": [],
   "source": [
    "x=21\n",
    "y=21.1\n",
    "z=x+y"
   ]
  },
  {
   "cell_type": "code",
   "execution_count": 32,
   "id": "33c6ff54",
   "metadata": {},
   "outputs": [
    {
     "name": "stdout",
     "output_type": "stream",
     "text": [
      "42.1 <class 'float'>\n"
     ]
    }
   ],
   "source": [
    "print(z,type(z))"
   ]
  },
  {
   "cell_type": "code",
   "execution_count": 34,
   "id": "b5d5fa80",
   "metadata": {},
   "outputs": [],
   "source": [
    "num1=110.5\n",
    "num2=29.5\n",
    "num3=num1+num2"
   ]
  },
  {
   "cell_type": "code",
   "execution_count": 35,
   "id": "780f11c8",
   "metadata": {},
   "outputs": [
    {
     "name": "stdout",
     "output_type": "stream",
     "text": [
      "140.0\n"
     ]
    }
   ],
   "source": [
    "print(num3)"
   ]
  },
  {
   "cell_type": "code",
   "execution_count": 36,
   "id": "3a27b06d",
   "metadata": {},
   "outputs": [
    {
     "data": {
      "text/plain": [
       "float"
      ]
     },
     "execution_count": 36,
     "metadata": {},
     "output_type": "execute_result"
    }
   ],
   "source": [
    "type(num3)"
   ]
  },
  {
   "cell_type": "code",
   "execution_count": null,
   "id": "6435c67d",
   "metadata": {},
   "outputs": [],
   "source": []
  }
 ],
 "metadata": {
  "kernelspec": {
   "display_name": "Python 3",
   "language": "python",
   "name": "python3"
  },
  "language_info": {
   "codemirror_mode": {
    "name": "ipython",
    "version": 3
   },
   "file_extension": ".py",
   "mimetype": "text/x-python",
   "name": "python",
   "nbconvert_exporter": "python",
   "pygments_lexer": "ipython3",
   "version": "3.8.8"
  }
 },
 "nbformat": 4,
 "nbformat_minor": 5
}
