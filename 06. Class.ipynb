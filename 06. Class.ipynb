{
 "cells": [
  {
   "cell_type": "code",
   "execution_count": 1,
   "id": "246cb955",
   "metadata": {},
   "outputs": [],
   "source": [
    "#homework\n",
    "#problem 3 (classes assignment)"
   ]
  },
  {
   "cell_type": "code",
   "execution_count": 16,
   "id": "bca2b3ad",
   "metadata": {},
   "outputs": [
    {
     "name": "stdout",
     "output_type": "stream",
     "text": [
      "['nancy', 'umesh']\n"
     ]
    }
   ],
   "source": [
    "class family():\n",
    "    family_member=None\n",
    "    \n",
    "    def __init__(self,family_inp):\n",
    "        self.family_member=family_inp\n",
    "        return\n",
    "    def print_value(self):\n",
    "        print(self.family_member)\n",
    "        return\n",
    "\n",
    "my_family=family([\"nancy\",\"umesh\"])\n",
    "my_family.print_value()\n",
    "        \n",
    "        "
   ]
  },
  {
   "cell_type": "code",
   "execution_count": null,
   "id": "9c3b8224",
   "metadata": {},
   "outputs": [],
   "source": []
  }
 ],
 "metadata": {
  "kernelspec": {
   "display_name": "Python 3",
   "language": "python",
   "name": "python3"
  },
  "language_info": {
   "codemirror_mode": {
    "name": "ipython",
    "version": 3
   },
   "file_extension": ".py",
   "mimetype": "text/x-python",
   "name": "python",
   "nbconvert_exporter": "python",
   "pygments_lexer": "ipython3",
   "version": "3.8.8"
  }
 },
 "nbformat": 4,
 "nbformat_minor": 5
}
