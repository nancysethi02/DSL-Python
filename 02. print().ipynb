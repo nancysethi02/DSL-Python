{
 "cells": [
  {
   "cell_type": "markdown",
   "id": "b73e226f",
   "metadata": {},
   "source": [
    "Date: 28.06.2021 print() & Type() practice"
   ]
  },
  {
   "cell_type": "code",
   "execution_count": 2,
   "id": "7020e5dc",
   "metadata": {},
   "outputs": [
    {
     "name": "stdout",
     "output_type": "stream",
     "text": [
      "This is example of print code\n"
     ]
    }
   ],
   "source": [
    "print(\"This is example of print code\")"
   ]
  },
  {
   "cell_type": "code",
   "execution_count": 3,
   "id": "2459bc7d",
   "metadata": {},
   "outputs": [
    {
     "name": "stdout",
     "output_type": "stream",
     "text": [
      "12\n"
     ]
    }
   ],
   "source": [
    "print(12)"
   ]
  },
  {
   "cell_type": "code",
   "execution_count": 4,
   "id": "5e79e931",
   "metadata": {},
   "outputs": [
    {
     "name": "stdout",
     "output_type": "stream",
     "text": [
      "12\n"
     ]
    }
   ],
   "source": [
    "print(\"12\")"
   ]
  },
  {
   "cell_type": "code",
   "execution_count": 15,
   "id": "2a3f6974",
   "metadata": {},
   "outputs": [],
   "source": [
    "name=\"nancy sethi\"\n",
    "age=29.3\n",
    "apt=1006\n",
    "add=\"nishincho\"\n",
    "city=\"kawasaki\""
   ]
  },
  {
   "cell_type": "code",
   "execution_count": 16,
   "id": "4b4cf032",
   "metadata": {},
   "outputs": [
    {
     "name": "stdout",
     "output_type": "stream",
     "text": [
      "nancy sethi\n"
     ]
    }
   ],
   "source": [
    "print(name)"
   ]
  },
  {
   "cell_type": "code",
   "execution_count": 17,
   "id": "5adedf2e",
   "metadata": {},
   "outputs": [
    {
     "data": {
      "text/plain": [
       "str"
      ]
     },
     "execution_count": 17,
     "metadata": {},
     "output_type": "execute_result"
    }
   ],
   "source": [
    "type(name)"
   ]
  },
  {
   "cell_type": "code",
   "execution_count": 18,
   "id": "029a1829",
   "metadata": {},
   "outputs": [
    {
     "name": "stdout",
     "output_type": "stream",
     "text": [
      "29.3 <class 'float'>\n"
     ]
    }
   ],
   "source": [
    "print(age,type(age))"
   ]
  },
  {
   "cell_type": "code",
   "execution_count": 19,
   "id": "94945775",
   "metadata": {},
   "outputs": [
    {
     "name": "stdout",
     "output_type": "stream",
     "text": [
      "1006 <class 'int'>\n"
     ]
    }
   ],
   "source": [
    "print(apt,type(apt))"
   ]
  },
  {
   "cell_type": "code",
   "execution_count": 20,
   "id": "83055157",
   "metadata": {},
   "outputs": [
    {
     "name": "stdout",
     "output_type": "stream",
     "text": [
      "nishincho <class 'str'>\n"
     ]
    }
   ],
   "source": [
    "print(add,type(add))"
   ]
  },
  {
   "cell_type": "code",
   "execution_count": 21,
   "id": "930467c9",
   "metadata": {},
   "outputs": [
    {
     "name": "stdout",
     "output_type": "stream",
     "text": [
      "kawasaki <class 'str'>\n"
     ]
    }
   ],
   "source": [
    "print(city,type(city))"
   ]
  },
  {
   "cell_type": "code",
   "execution_count": 22,
   "id": "f6a62981",
   "metadata": {},
   "outputs": [
    {
     "name": "stdout",
     "output_type": "stream",
     "text": [
      "nancy sethi 29.3 1006 nishincho kawasaki\n"
     ]
    }
   ],
   "source": [
    "print(name,age,apt,add,city)"
   ]
  },
  {
   "cell_type": "code",
   "execution_count": 23,
   "id": "c49509cc",
   "metadata": {},
   "outputs": [
    {
     "name": "stdout",
     "output_type": "stream",
     "text": [
      "nancy sethi ,\n"
     ]
    }
   ],
   "source": [
    "print(name,\",\")"
   ]
  },
  {
   "cell_type": "code",
   "execution_count": 25,
   "id": "89ebbb3f",
   "metadata": {},
   "outputs": [
    {
     "name": "stdout",
     "output_type": "stream",
     "text": [
      "nancy sethi , 29.3 , nishincho , 1006 , kawasaki\n"
     ]
    }
   ],
   "source": [
    "print(name,\",\",age,\",\",add,\",\",apt,\",\",city)"
   ]
  },
  {
   "cell_type": "code",
   "execution_count": 26,
   "id": "67a1a73d",
   "metadata": {},
   "outputs": [
    {
     "name": "stdout",
     "output_type": "stream",
     "text": [
      "1035\n"
     ]
    }
   ],
   "source": [
    "print(23*45)"
   ]
  },
  {
   "cell_type": "code",
   "execution_count": 27,
   "id": "2707ac43",
   "metadata": {},
   "outputs": [],
   "source": [
    "a=56\n",
    "b=14\n",
    "c=13.8"
   ]
  },
  {
   "cell_type": "code",
   "execution_count": 28,
   "id": "add17f6f",
   "metadata": {},
   "outputs": [
    {
     "name": "stdout",
     "output_type": "stream",
     "text": [
      "83.8\n"
     ]
    }
   ],
   "source": [
    "print(a+b+c)"
   ]
  },
  {
   "cell_type": "code",
   "execution_count": 29,
   "id": "1075e4b2",
   "metadata": {},
   "outputs": [
    {
     "name": "stdout",
     "output_type": "stream",
     "text": [
      "784\n"
     ]
    }
   ],
   "source": [
    "print(a*b)"
   ]
  },
  {
   "cell_type": "code",
   "execution_count": 30,
   "id": "464b75ad",
   "metadata": {},
   "outputs": [
    {
     "name": "stdout",
     "output_type": "stream",
     "text": [
      "772.8000000000001\n"
     ]
    }
   ],
   "source": [
    "print(a*c)"
   ]
  },
  {
   "cell_type": "code",
   "execution_count": 31,
   "id": "7f21f901",
   "metadata": {},
   "outputs": [],
   "source": [
    "x=21\n",
    "y=21.1\n",
    "z=x+y"
   ]
  },
  {
   "cell_type": "code",
   "execution_count": 32,
   "id": "736cca20",
   "metadata": {},
   "outputs": [
    {
     "name": "stdout",
     "output_type": "stream",
     "text": [
      "42.1 <class 'float'>\n"
     ]
    }
   ],
   "source": [
    "print(z,type(z))"
   ]
  },
  {
   "cell_type": "code",
   "execution_count": 34,
   "id": "e14b68ff",
   "metadata": {},
   "outputs": [],
   "source": [
    "num1=110.5\n",
    "num2=29.5\n",
    "num3=num1+num2"
   ]
  },
  {
   "cell_type": "code",
   "execution_count": 35,
   "id": "ba40a95d",
   "metadata": {},
   "outputs": [
    {
     "name": "stdout",
     "output_type": "stream",
     "text": [
      "140.0\n"
     ]
    }
   ],
   "source": [
    "print(num3)"
   ]
  },
  {
   "cell_type": "code",
   "execution_count": 36,
   "id": "27fcb5bd",
   "metadata": {},
   "outputs": [
    {
     "data": {
      "text/plain": [
       "float"
      ]
     },
     "execution_count": 36,
     "metadata": {},
     "output_type": "execute_result"
    }
   ],
   "source": [
    "type(num3)"
   ]
  },
  {
   "cell_type": "code",
   "execution_count": null,
   "id": "56aa51ad",
   "metadata": {},
   "outputs": [],
   "source": []
  }
 ],
 "metadata": {
  "kernelspec": {
   "display_name": "Python 3",
   "language": "python",
   "name": "python3"
  },
  "language_info": {
   "codemirror_mode": {
    "name": "ipython",
    "version": 3
   },
   "file_extension": ".py",
   "mimetype": "text/x-python",
   "name": "python",
   "nbconvert_exporter": "python",
   "pygments_lexer": "ipython3",
   "version": "3.8.8"
  }
 },
 "nbformat": 4,
 "nbformat_minor": 5
}
