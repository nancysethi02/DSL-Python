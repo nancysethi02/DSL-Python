{
 "cells": [
  {
   "cell_type": "code",
   "execution_count": 26,
   "id": "c3d8e937",
   "metadata": {},
   "outputs": [],
   "source": [
    "def name(): #Function Definition\n",
    "    print(\"Yes Mam\")"
   ]
  },
  {
   "cell_type": "code",
   "execution_count": 30,
   "id": "45b6d4e7",
   "metadata": {},
   "outputs": [
    {
     "name": "stdout",
     "output_type": "stream",
     "text": [
      "Yes Mam\n"
     ]
    }
   ],
   "source": [
    "x=\"Nancy\" #Function Calling\n",
    "name()"
   ]
  },
  {
   "cell_type": "code",
   "execution_count": 23,
   "id": "e8b437d4",
   "metadata": {},
   "outputs": [
    {
     "name": "stdout",
     "output_type": "stream",
     "text": [
      "Yes Mam sharu\n"
     ]
    }
   ],
   "source": [
    "y=\"sharu\"\n",
    "name(y)"
   ]
  },
  {
   "cell_type": "code",
   "execution_count": 12,
   "id": "1b4d6694",
   "metadata": {},
   "outputs": [],
   "source": [
    "i=0\n",
    "while(i=5):\n",
    "    name()\n",
    "    i=i+1"
   ]
  },
  {
   "cell_type": "code",
   "execution_count": 29,
   "id": "489e07d1",
   "metadata": {},
   "outputs": [
    {
     "name": "stdout",
     "output_type": "stream",
     "text": [
      "Sharu Bajaj\n",
      "Manu Bajaj\n",
      "Shanaya Bajaj\n"
     ]
    }
   ],
   "source": [
    "def my_function(fname):\n",
    "  print(fname + \" Bajaj\")\n",
    "\n",
    "my_function(\"Sharu\")\n",
    "my_function(\"Manu\")\n",
    "my_function(\"Shanaya\")"
   ]
  },
  {
   "cell_type": "code",
   "execution_count": 44,
   "id": "6a160bd6",
   "metadata": {},
   "outputs": [
    {
     "name": "stdout",
     "output_type": "stream",
     "text": [
      "nancy sethi\n",
      "sharu bajaj\n",
      "manu bajaj\n",
      "umes bam\n"
     ]
    }
   ],
   "source": [
    "def my_function(fname, lname):\n",
    "  print(fname +\" \"+ lname)\n",
    "\n",
    "my_function(fname=\"nancy\",lname=\"sethi\")\n",
    "my_function(lname=\"bajaj\",fname=\"sharu\")\n",
    "my_function(\"manu\",\"bajaj\")\n",
    "my_function(\"umes\",\"bam\")\n",
    "\n"
   ]
  },
  {
   "cell_type": "code",
   "execution_count": 39,
   "id": "42348d1d",
   "metadata": {},
   "outputs": [
    {
     "name": "stdout",
     "output_type": "stream",
     "text": [
      "sum of 12 and 234 and 34 is 246\n",
      "sum of 34 and 20 and 56 is 54\n"
     ]
    }
   ],
   "source": [
    "def sum(num1,num2,num3):\n",
    "    print(\"sum of\",num1,\"and\",num2,\"and\",num3,\"is\",num1+num2)\n",
    "    \n",
    "\n",
    "sum(12,234,34)\n",
    "sum(34,20,56)\n"
   ]
  },
  {
   "cell_type": "code",
   "execution_count": 43,
   "id": "357f0a2b",
   "metadata": {},
   "outputs": [
    {
     "ename": "TypeError",
     "evalue": "sum() missing 1 required positional argument: 'num3'",
     "output_type": "error",
     "traceback": [
      "\u001b[1;31m---------------------------------------------------------------------------\u001b[0m",
      "\u001b[1;31mTypeError\u001b[0m                                 Traceback (most recent call last)",
      "\u001b[1;32m<ipython-input-43-8088edb3ff54>\u001b[0m in \u001b[0;36m<module>\u001b[1;34m\u001b[0m\n\u001b[0;32m      3\u001b[0m \u001b[1;33m\u001b[0m\u001b[0m\n\u001b[0;32m      4\u001b[0m \u001b[1;33m\u001b[0m\u001b[0m\n\u001b[1;32m----> 5\u001b[1;33m \u001b[0msum\u001b[0m\u001b[1;33m(\u001b[0m\u001b[1;36m12\u001b[0m\u001b[1;33m,\u001b[0m\u001b[1;36m234\u001b[0m\u001b[1;33m)\u001b[0m\u001b[1;33m\u001b[0m\u001b[1;33m\u001b[0m\u001b[0m\n\u001b[0m\u001b[0;32m      6\u001b[0m \u001b[0msum\u001b[0m\u001b[1;33m(\u001b[0m\u001b[1;36m34\u001b[0m\u001b[1;33m,\u001b[0m\u001b[1;36m20\u001b[0m\u001b[1;33m,\u001b[0m\u001b[1;36m56\u001b[0m\u001b[1;33m)\u001b[0m\u001b[1;33m\u001b[0m\u001b[1;33m\u001b[0m\u001b[0m\n",
      "\u001b[1;31mTypeError\u001b[0m: sum() missing 1 required positional argument: 'num3'"
     ]
    }
   ],
   "source": [
    "def sum(num1,num2,num3):\n",
    "    print(\"sum of\",num1,\"and\",num2,\"and\",num3,\"is\",num1+num2)\n",
    "    \n",
    "\n",
    "sum(12,234)\n",
    "sum(34,20,56)"
   ]
  },
  {
   "cell_type": "code",
   "execution_count": 42,
   "id": "3e80f08f",
   "metadata": {},
   "outputs": [
    {
     "name": "stdout",
     "output_type": "stream",
     "text": [
      "The 3rd child is Tobias\n"
     ]
    }
   ],
   "source": [
    "def my_function(*kids):\n",
    "  print(\"The 3rd child is \" + kids[2])\n",
    "\n",
    "my_function(\"ghjg\",\"Emil\", \"Tobias\", \"Linus\",\"fddf\",\"fdffe\")\n"
   ]
  },
  {
   "cell_type": "code",
   "execution_count": 48,
   "id": "fe94190d",
   "metadata": {},
   "outputs": [
    {
     "name": "stdout",
     "output_type": "stream",
     "text": [
      "skhskbvksbdvmsbv Sharu\n"
     ]
    }
   ],
   "source": [
    "def my_function(**kid):\n",
    "  print(\"skhskbvksbdvmsbv \" + kid[\"fname\"])\n",
    "\n",
    "my_function(fname = \"Sharu\", lname = \"Bajaj\")"
   ]
  },
  {
   "cell_type": "code",
   "execution_count": 49,
   "id": "699153cf",
   "metadata": {},
   "outputs": [
    {
     "name": "stdout",
     "output_type": "stream",
     "text": [
      "I am from Sweden\n",
      "I am from India\n",
      "I am from Norway\n",
      "I am from Brazil\n"
     ]
    }
   ],
   "source": [
    "def my_function(country = \"Norway\"):\n",
    "  print(\"I am from \" + country)\n",
    "\n",
    "my_function(\"Sweden\")\n",
    "my_function(\"India\")\n",
    "my_function()\n",
    "my_function(\"Brazil\")"
   ]
  },
  {
   "cell_type": "code",
   "execution_count": 51,
   "id": "4a6fcd5a",
   "metadata": {},
   "outputs": [
    {
     "name": "stdout",
     "output_type": "stream",
     "text": [
      "280\n",
      "110\n"
     ]
    }
   ],
   "source": [
    "def sum(num1,num2,num3):\n",
    "    return(num1+num2+num3)\n",
    "\n",
    "x=sum(12,234,34)\n",
    "y=sum(34,20,56)\n",
    "\n",
    "print(x)\n",
    "print(y)\n"
   ]
  },
  {
   "cell_type": "code",
   "execution_count": 52,
   "id": "3251d102",
   "metadata": {},
   "outputs": [
    {
     "name": "stdout",
     "output_type": "stream",
     "text": [
      "15\n",
      "25\n",
      "45\n"
     ]
    }
   ],
   "source": [
    "def my_function(x):\n",
    "  return 5 * x\n",
    "\n",
    "print(my_function(3))\n",
    "print(my_function(5))\n",
    "print(my_function(9))"
   ]
  },
  {
   "cell_type": "code",
   "execution_count": null,
   "id": "007d4fdf",
   "metadata": {},
   "outputs": [],
   "source": []
  }
 ],
 "metadata": {
  "kernelspec": {
   "display_name": "Python 3",
   "language": "python",
   "name": "python3"
  },
  "language_info": {
   "codemirror_mode": {
    "name": "ipython",
    "version": 3
   },
   "file_extension": ".py",
   "mimetype": "text/x-python",
   "name": "python",
   "nbconvert_exporter": "python",
   "pygments_lexer": "ipython3",
   "version": "3.8.8"
  }
 },
 "nbformat": 4,
 "nbformat_minor": 5
}
