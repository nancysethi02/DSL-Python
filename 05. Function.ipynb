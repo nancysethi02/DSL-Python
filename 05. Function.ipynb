{
 "cells": [
  {
   "cell_type": "code",
   "execution_count": 10,
   "id": "a944686d",
   "metadata": {
    "scrolled": true
   },
   "outputs": [
    {
     "name": "stdout",
     "output_type": "stream",
     "text": [
      "0 ounces in the beginning\n",
      "0 ounces in the beginning\n",
      "0 ounces in the beginning\n",
      "\n",
      "12 ounces once filled\n",
      "16 ounces once filled\n",
      "2 ounces once filled\n",
      "\n",
      "11 ounces left after sip\n",
      "15 ounces left after sip\n",
      "1 ounces left after sip\n"
     ]
    }
   ],
   "source": [
    "class CoffeeCup():\n",
    "\n",
    "    # create init method that takes capacity as parameter and assign capacity to class level capacity (self.capacity) and class level amount (self.amount)= 0\n",
    "    def __init__(self,capacity): #init takes capacity as argument\n",
    "        self.capacity=capacity #assigning capacity to class level capacity \n",
    "        self.amount=0 # assigning self.amount=0\n",
    "    \n",
    "\n",
    "    # create a fill method and assign class level amount to capacity\n",
    "    def fill(self):\n",
    "        self.amount=self.capacity #cup full. assiged capacity to amount\n",
    "\n",
    "    # create an empty method and remove all amount from class level variable, means self.amount to 0\n",
    "    def empty(self):\n",
    "        self.amount=0 #cup empty. assigned 0 to cup once cup is empty\n",
    "\n",
    "    # create drink method that will take amount as parameter, and deduct amount from original amount that a person has drink already. If previouls amount is 0 then nothing can be deducted.\n",
    "    def drink(self,nsip):\n",
    "        if(self.amount==0):\n",
    "            self.amount=0\n",
    "        else:\n",
    "            self.amount=self.amount-nsip #amount after drinking no of sips \"nsip\" is amount-nsip\n",
    "        \n",
    "steves_cup = CoffeeCup(12)  # a fancy latte.\n",
    "seans_cup = CoffeeCup(16)    # gas station drip.\n",
    "brandis_cup = CoffeeCup(2)  # a quick espresso.\n",
    "\n",
    "print(steves_cup.amount, \"ounces in the beginning\")\n",
    "print(seans_cup.amount, \"ounces in the beginning\")\n",
    "print(brandis_cup.amount, \"ounces in the beginning\")\n",
    "print()\n",
    "\n",
    "steves_cup.fill()\n",
    "seans_cup.fill()\n",
    "brandis_cup.fill()\n",
    "\n",
    "\n",
    "\n",
    "\n",
    "\n",
    "print(steves_cup.amount, \"ounces once filled\")\n",
    "print(seans_cup.amount, \"ounces once filled\")\n",
    "print(brandis_cup.amount, \"ounces once filled\")\n",
    "print()\n",
    "\n",
    "steves_cup.drink(1)\n",
    "seans_cup.drink(1)\n",
    "brandis_cup.drink(1)\n",
    "\n",
    "print(steves_cup.amount, \"ounces left after sip\")\n",
    "print(seans_cup.amount, \"ounces left after sip\")\n",
    "print(brandis_cup.amount, \"ounces left after sip\")"
   ]
  },
  {
   "cell_type": "code",
   "execution_count": null,
   "id": "efaae31d",
   "metadata": {},
   "outputs": [],
   "source": []
  }
 ],
 "metadata": {
  "kernelspec": {
   "display_name": "Python 3",
   "language": "python",
   "name": "python3"
  },
  "language_info": {
   "codemirror_mode": {
    "name": "ipython",
    "version": 3
   },
   "file_extension": ".py",
   "mimetype": "text/x-python",
   "name": "python",
   "nbconvert_exporter": "python",
   "pygments_lexer": "ipython3",
   "version": "3.8.8"
  }
 },
 "nbformat": 4,
 "nbformat_minor": 5
}
